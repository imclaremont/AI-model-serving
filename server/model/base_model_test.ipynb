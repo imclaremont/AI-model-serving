{
 "cells": [
  {
   "cell_type": "code",
   "execution_count": 1,
   "metadata": {},
   "outputs": [],
   "source": [
    "import pandas as pd\n",
    "from keras.models import load_model\n",
    "import numpy as np\n",
    "import matplotlib.pyplot as plt\n",
    "from sklearn.preprocessing import MinMaxScaler\n",
    "import math\n",
    "from sklearn.metrics import mean_squared_error\n",
    "from keras.utils import plot_model\n",
    "import os"
   ]
  },
  {
   "cell_type": "code",
   "execution_count": null,
   "metadata": {},
   "outputs": [],
   "source": [
    "dpath = '/Users/hadongheon/Desktop/SKALA 1기/데이터분석 및 MLOps/ozo/server/model/stock_lstm_model_nogpu.keras'\n",
    "DATA_PATH = \"/Users/hadongheon/Desktop/SKALA 1기/데이터분석 및 MLOps/ozo/server/IBM_2006_to_2023_extended.csv\"\n",
    "PREDICTION_PLOT_PATH = \"/Users/hadongheon/Desktop/SKALA 1기/데이터분석 및 MLOps/ozo/server/view-model-architecture/stock_test.png\""
   ]
  },
  {
   "cell_type": "code",
   "execution_count": null,
   "metadata": {},
   "outputs": [],
   "source": [
    "# 모델 로딩\n",
    "model = load_model(dpath)\n",
    "\n",
    "# 데이터 로딩\n",
    "dataset = pd.read_csv(DATA_PATH, index_col='Date', parse_dates=['Date'], encoding='utf-8')\n",
    "\n",
    "# 모델 아키텍처 이미지 생성\n",
    "#plot_model(model, to_file=os.path.join(IMAGE_DIR, \"model.png\"))\n",
    "#plot_model(model, to_file=MODEL_SHAPES_PLOT_PATH, show_shapes=True)\n",
    "\n",
    "# RMSE 계산 함수\n",
    "def return_rmse(test, predicted):\n",
    "    rmse = math.sqrt(mean_squared_error(test, predicted))\n",
    "    result_msg = f\"The root mean squared error is {rmse}.\"\n",
    "    print(result_msg)\n",
    "    return result_msg\n",
    "\n",
    "# 예측 결과 그래프 저장 함수\n",
    "def plot_predictions(test, predicted):\n",
    "    plt.clf()  # 이전 그래프 초기화\n",
    "    plt.plot(test, color='red', label='Real IBM Stock Price')\n",
    "    plt.plot(predicted, color='blue', label='Predicted IBM Stock Price')\n",
    "    plt.title('IBM Stock Price Prediction')\n",
    "    plt.xlabel('Time')\n",
    "    plt.ylabel('IBM Stock Price')\n",
    "    plt.legend()\n",
    "    plt.savefig(PREDICTION_PLOT_PATH)\n",
    "    return PREDICTION_PLOT_PATH\n",
    "\n",
    "# 데이터 전처리 및 모델 예측 실행 함수\n",
    "def process(dataset):\n",
    "    model = load_model(dpath)\n",
    "\n",
    "    # 'High' 열 선택\n",
    "    training_set = dataset.loc[:'2022', [\"High\"]].values\n",
    "    test_set = dataset.loc['2023':, [\"High\"]].values\n",
    "\n",
    "    # 데이터 스케일링\n",
    "    sc = MinMaxScaler(feature_range=(0, 1))\n",
    "    training_set_scaled = sc.fit_transform(training_set)\n",
    "\n",
    "    # 테스트 데이터 준비\n",
    "    dataset_total = pd.concat([dataset.loc[:'2022', \"High\"], dataset.loc['2023':, \"High\"]], axis=0)\n",
    "    inputs = dataset_total[len(dataset_total) - len(test_set) - 60:].values\n",
    "    inputs = inputs.reshape(-1, 1)\n",
    "    inputs = sc.transform(inputs)\n",
    "\n",
    "    X_test = []\n",
    "    for i in range(60, len(inputs)):\n",
    "        X_test.append(inputs[i-60:i, 0])\n",
    "    X_test = np.array(X_test)\n",
    "    X_test = np.reshape(X_test, (X_test.shape[0], X_test.shape[1], 1))\n",
    "\n",
    "    # 모델 예측\n",
    "    predicted_stock_price = model.predict(X_test)\n",
    "    predicted_stock_price = sc.inverse_transform(predicted_stock_price)\n",
    "\n",
    "    # 결과 시각화 및 평가\n",
    "    result_visualizing = plot_predictions(test_set, predicted_stock_price)\n",
    "    result_evaluating = return_rmse(test_set, predicted_stock_price)\n",
    "\n",
    "    return result_visualizing, result_evaluating"
   ]
  },
  {
   "cell_type": "code",
   "execution_count": null,
   "metadata": {},
   "outputs": [],
   "source": []
  }
 ],
 "metadata": {
  "kernelspec": {
   "display_name": "Python 3",
   "language": "python",
   "name": "python3"
  },
  "language_info": {
   "codemirror_mode": {
    "name": "ipython",
    "version": 3
   },
   "file_extension": ".py",
   "mimetype": "text/x-python",
   "name": "python",
   "nbconvert_exporter": "python",
   "pygments_lexer": "ipython3",
   "version": "3.10.9"
  }
 },
 "nbformat": 4,
 "nbformat_minor": 2
}
